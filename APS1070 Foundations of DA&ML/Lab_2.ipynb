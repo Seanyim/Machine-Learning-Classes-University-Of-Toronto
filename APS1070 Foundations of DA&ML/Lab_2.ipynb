{
 "cells": [
  {
   "cell_type": "markdown",
   "metadata": {
    "colab_type": "text",
    "id": "TBvzhAlwoJFp"
   },
   "source": [
    "# APS1070\n",
    "#### Anomaly Detection - Project 2\n",
    "\n"
   ]
  },
  {
   "cell_type": "markdown",
   "metadata": {
    "colab_type": "text",
    "id": "Za0EU-0GOoAU"
   },
   "source": [
    "Project 2 has two parts: a tutorial component (which will be covered in labs) and an exercises component (to be completed as homework, individually). Overall, this project is worth 12.5% of your final grade. Completing the tutorial section is worth 2.5 marks. The exercises section will be graded out of the remaining 10 marks.\n"
   ]
  },
  {
   "cell_type": "markdown",
   "metadata": {
    "colab_type": "text",
    "id": "iQGPb-x9gouF"
   },
   "source": [
    "Please fill out the following:\n",
    "\n",
    "\n",
    "*   Your **name**:Qianzhen Zhu\n",
    "*   Your **student number**:1005767984\n",
    "\n"
   ]
  },
  {
   "cell_type": "markdown",
   "metadata": {
    "colab_type": "text",
    "id": "RxOWyWY9Ovlj"
   },
   "source": [
    "## Tutorial"
   ]
  },
  {
   "cell_type": "markdown",
   "metadata": {
    "colab_type": "text",
    "id": "7KJ_kwhT0859"
   },
   "source": [
    "In this part of the assignment, we will implement an anomaly detection algorithm using the Gaussian model to detect anomalous behavior in a 2D dataset first and then a high-dimensional dataset.\n",
    "\n",
    "Loading relevant libraries and the dataset"
   ]
  },
  {
   "cell_type": "code",
   "execution_count": 1,
   "metadata": {
    "colab": {},
    "colab_type": "code",
    "id": "lj0bwJiZ085-"
   },
   "outputs": [
    {
     "name": "stderr",
     "output_type": "stream",
     "text": [
      "D:\\anaconda3\\lib\\site-packages\\sklearn\\utils\\deprecation.py:144: FutureWarning: The sklearn.datasets.samples_generator module is  deprecated in version 0.22 and will be removed in version 0.24. The corresponding classes / functions should instead be imported from sklearn.datasets. Anything that cannot be imported from sklearn.datasets is now part of the private API.\n",
      "  warnings.warn(message, FutureWarning)\n"
     ]
    },
    {
     "data": {
      "image/png": "[encoded data removed]",
      "text/plain": [
       "<Figure size 432x288 with 1 Axes>"
      ]
     },
     "metadata": {
      "needs_background": "light"
     },
     "output_type": "display_data"
    }
   ],
   "source": [
    "import numpy as np\n",
    "import matplotlib.pyplot as plt\n",
    "\n",
    "\n",
    "from sklearn.datasets.samples_generator import make_blobs\n",
    "X, y_true = make_blobs(n_samples=400, centers=1,\n",
    "                       cluster_std=0.60, random_state=0)\n",
    "X_append, y_true_append = make_blobs(n_samples=10,centers=1,\n",
    "                                    cluster_std=5,random_state=0)\n",
    "X = np.vstack([X,X_append])\n",
    "y_true = np.hstack([y_true, [1 for _ in y_true_append]])\n",
    "X = X[:, ::-1] # flip axes for better plotting\n",
    "plt.scatter(X[:,0],X[:,1],marker=\"x\");"
   ]
  },
  {
   "cell_type": "markdown",
   "metadata": {
    "colab_type": "text",
    "id": "cj5u6ZQr086A"
   },
   "source": [
    "Here we've manufactured a dataset where some points are visibly outliers from the main distribution.\n",
    "\n",
    "We can see this from looking at the plot, but how do we robustly identify the outliers? \n",
    "\n",
    "That's where a Gaussian estimation comes in. For this dataset, we only need a single Gaussian, for which we are gonna calculate the mean and standard deviation. Then, we're able to find the points that don't seem likely to have originated from that distribution - these are our outliers!\n",
    "\n",
    "First, we need to calculate the mean and variance for our data. Complete the function below to generate these values using these formulae:\n",
    "\n",
    "$$\\mu = \\frac{1}{m} \\sum_{i=1}^{m}X_i$$\n",
    "\n",
    "$$\\sigma^2 = \\frac{1}{m} \\sum_{i=1}^{m}(X_i-\\mu)^2$$"
   ]
  },
  {
   "cell_type": "code",
   "execution_count": 2,
   "metadata": {
    "colab": {},
    "colab_type": "code",
    "id": "uZubKGrU086A"
   },
   "outputs": [],
   "source": [
    "def estimateGaussian(X):\n",
    "    \"\"\"\n",
    "     This function provides an estimate of mean and variance \n",
    "     of a Gaussian distribution along multiple dimensions\n",
    "     using X, an N-dimensional vector\n",
    "    \"\"\"\n",
    "    \n",
    "    m = X.shape[0]\n",
    "    \n",
    "    #compute mean of X\n",
    "    sum_ = sum(X)\n",
    "    mu = np.mean(X,axis = 0)\n",
    "\n",
    "    \n",
    "    # compute variance of X\n",
    "    var = np.var(X,axis = 0)\n",
    "    \n",
    "    \n",
    "    return mu,var\n",
    "mu, sigma = estimateGaussian(X)"
   ]
  },
  {
   "cell_type": "markdown",
   "metadata": {
    "colab_type": "text",
    "id": "uHxa6dYa086C"
   },
   "source": [
    "Now, we will calculate for each point in X, the probability of the distribution $N(\\mu,\\sigma^2)$ generating that point randomly. This has been completed for you, although it is important to understand how the calculation of the PDF works."
   ]
  },
  {
   "cell_type": "code",
   "execution_count": 3,
   "metadata": {
    "colab": {},
    "colab_type": "code",
    "id": "tuQsE2kJ086C"
   },
   "outputs": [],
   "source": [
    "def multivariateGaussian(X, mu, sigma):\n",
    "    \"\"\"\n",
    "    This function computes the probability density function of a multivariate gaussian distribution.\n",
    "    \"\"\"\n",
    "    k = len(mu)\n",
    "    \n",
    "    sigma=np.diag(sigma)\n",
    "    X = X - mu.T\n",
    "    p = 1/((2*np.pi)**(k/2)*(np.linalg.det(sigma)**0.5))* np.exp(-0.5* np.sum(X @ np.linalg.pinv(sigma) * X,axis=1))\n",
    "    return p\n",
    "p = multivariateGaussian(X, mu, sigma)"
   ]
  },
  {
   "cell_type": "markdown",
   "metadata": {
    "colab_type": "text",
    "id": "icNAMejX086E"
   },
   "source": [
    "Now that we have the probability of each point in the dataset, we can plot these on the original scatterplot:"
   ]
  },
  {
   "cell_type": "code",
   "execution_count": 4,
   "metadata": {
    "colab": {},
    "colab_type": "code",
    "id": "qc_9TKyD086E"
   },
   "outputs": [
    {
     "data": {
      "image/png": "[encoded data removed]",
      "text/plain": [
       "<Figure size 576x432 with 2 Axes>"
      ]
     },
     "metadata": {
      "needs_background": "light"
     },
     "output_type": "display_data"
    }
   ],
   "source": [
    "plt.figure(figsize=(8,6))\n",
    "plt.scatter(X[:,0],X[:,1],marker=\"x\",c=p,cmap='viridis');\n",
    "plt.colorbar();"
   ]
  },
  {
   "cell_type": "markdown",
   "metadata": {
    "colab_type": "text",
    "id": "2AL9fY-a086F"
   },
   "source": [
    "We're getting closer to the point where we can programatically identify our outliers for a single Gaussian distribution. The last step is to identify a value for $p$, below which we consider a point to be an outlier. We term this $\\epsilon$."
   ]
  },
  {
   "cell_type": "code",
   "execution_count": 5,
   "metadata": {
    "colab": {},
    "colab_type": "code",
    "id": "EIH0Q-zF086G"
   },
   "outputs": [],
   "source": [
    "#Choose a value for epsilon\n",
    "\n",
    "epsilon = 0.02"
   ]
  },
  {
   "cell_type": "markdown",
   "metadata": {
    "colab_type": "text",
    "id": "uIyFl_4z086H"
   },
   "source": [
    "Now we'll highlight on the scatter plot all points that are below $\\epsilon$:"
   ]
  },
  {
   "cell_type": "code",
   "execution_count": 6,
   "metadata": {
    "colab": {},
    "colab_type": "code",
    "id": "fTLIVfpp086I"
   },
   "outputs": [
    {
     "data": {
      "image/png": "[encoded data removed]",
      "text/plain": [
       "<Figure size 576x432 with 1 Axes>"
      ]
     },
     "metadata": {
      "needs_background": "light"
     },
     "output_type": "display_data"
    }
   ],
   "source": [
    "plt.figure(figsize=(8,6))\n",
    "plt.scatter(X[:,0],X[:,1],marker=\"x\",c=p,cmap='viridis');\n",
    "# Circling of anomalies\n",
    "outliers = np.nonzero(p<epsilon)[0]\n",
    "plt.scatter(X[outliers,0],X[outliers,1],marker=\"o\",facecolor=\"none\",edgecolor=\"r\",s=70);"
   ]
  },
  {
   "cell_type": "markdown",
   "metadata": {
    "colab_type": "text",
    "id": "7O3aNvtP086J"
   },
   "source": [
    "How well did your epsilon value do? Play around with different values until you're happy with the plot above. \n",
    "\n",
    "We can additionally look at our model's classification performance another way. By sorting the points ascending by their probability, and classifying the first $k$ points as anomalous, we can determine the model's precision@k. Implement this in the cell below. \n",
    "\n",
    "* What is the highest value of K for which we get precision of 1.0? __10__\n",
    "* What is the precision for K=4? __1.0__"
   ]
  },
  {
   "cell_type": "code",
   "execution_count": 7,
   "metadata": {
    "colab": {},
    "colab_type": "code",
    "id": "6Qa46yVb086K"
   },
   "outputs": [
    {
     "name": "stdout",
     "output_type": "stream",
     "text": [
      "1 1.0\n",
      "2 1.0\n",
      "3 1.0\n",
      "4 1.0\n",
      "5 1.0\n",
      "6 1.0\n",
      "7 1.0\n",
      "8 1.0\n",
      "9 1.0\n",
      "10 1.0\n",
      "11 0.9090909090909091\n",
      "12 0.8333333333333334\n",
      "13 0.7692307692307693\n",
      "14 0.7142857142857143\n",
      "15 0.6666666666666666\n",
      "16 0.625\n",
      "17 0.5882352941176471\n",
      "18 0.5555555555555556\n",
      "19 0.5263157894736842\n"
     ]
    }
   ],
   "source": [
    "from sklearn.metrics import precision_score\n",
    "import pandas as pd\n",
    "a = pd.DataFrame(data=p,columns=['p'])\n",
    "a['y'] = y_true\n",
    "a['y_p'] = 0\n",
    "a.sort_values(by='p',ascending=True,inplace=True)\n",
    "b = a.index[0:20]\n",
    "\n",
    "c = pd.DataFrame(data=p,columns=['p'])\n",
    "c['y'] = y_true\n",
    "c['y_p'] = 0\n",
    "for k in range(1,20):\n",
    "  for i in range(0,k):\n",
    "    c.loc[b[i],'y_p'] = 1\n",
    "    precision = precision_score(y_true,c.y_p.values,average='binary')\n",
    "  print(k,precision)\n",
    "\n",
    "    \n",
    "\n"
   ]
  },
  {
   "cell_type": "markdown",
   "metadata": {
    "colab_type": "text",
    "id": "1Tux0Ucg086L"
   },
   "source": [
    "You may have noticed that in this example, we are training and testing on the _entire_ dataset. This is absolutely not standard practice! You should _always_ split into a training and testing set. However, the reason that we can get away with this here is because we don't actually use labels at all during training - this is an _unsupervised_ machine learning task. Unsupervised learning methods are beneficial for anomaly detection because in the real world (i.e. testing!) we might come across types of outliers that we didn't see during training. We want to use a method that can handle this, and unsupervised methods are often better suited to this type of domain.\n",
    "\n",
    "For the next section, we'll move to Mixture of Gaussian models. Take a look at the following dataset:"
   ]
  },
  {
   "cell_type": "code",
   "execution_count": 8,
   "metadata": {
    "colab": {},
    "colab_type": "code",
    "id": "2V2eZ0rY086N"
   },
   "outputs": [
    {
     "name": "stdout",
     "output_type": "stream",
     "text": [
      "[[  0.99431896  -3.78391889]\n",
      " [  4.96515112  -1.15616986]\n",
      " [  3.74655511  -0.97929824]\n",
      " [  0.17872815  -1.82592226]\n",
      " [  0.58181215  -1.6293202 ]\n",
      " [ -7.74848568  -7.52526808]\n",
      " [ -4.8360427   -8.75824251]\n",
      " [ -9.21976793  -8.51298398]\n",
      " [  0.7647957   -1.873758  ]\n",
      " [  4.51758372  -0.94020918]\n",
      " [ -3.46645042  -5.80677949]\n",
      " [  6.8988732   -4.30029334]\n",
      " [ -7.41348859  -6.8445431 ]\n",
      " [  4.86369658  -1.52150306]\n",
      " [ -7.60121734  -6.45880588]\n",
      " [ -3.12923147  -6.94285743]\n",
      " [  0.78710822  -2.36703488]\n",
      " [ -3.57249635  -5.3022484 ]\n",
      " [  4.85673685  -1.13822821]\n",
      " [  4.65183019  -0.98670928]\n",
      " [ -8.47556192  -7.48568884]\n",
      " [ -0.89826316  -2.12852659]\n",
      " [ -3.32668329  -9.5111415 ]\n",
      " [  5.31837996  -0.98058227]\n",
      " [ -4.17801154  -9.52069685]\n",
      " [ -8.21826334  -7.1064794 ]\n",
      " [ -8.63219572 -10.61216363]\n",
      " [ -3.17787934  -6.05132166]\n",
      " [ -2.06238836  -5.96823311]\n",
      " [  3.7442273   -0.04719231]\n",
      " [ -3.54852163 -10.51450232]\n",
      " [  1.26080823  -2.24523621]\n",
      " [ -4.14522951  -9.5896706 ]\n",
      " [ -9.31878161  -8.28720292]\n",
      " [ -8.26736072  -6.97112387]\n",
      " [ -7.81459839  -5.96405161]\n",
      " [ -3.09941645  -6.93942327]\n",
      " [ -3.97472306  -5.66807153]\n",
      " [  0.18840053  -2.33832105]\n",
      " [  3.94976573  -0.61267285]\n",
      " [ -5.06721256  -6.46408742]\n",
      " [  0.33921219  -2.1482616 ]\n",
      " [ -7.79774442  -6.18834676]\n",
      " [ -3.33313668  -6.82427088]\n",
      " [ -7.48380702  -6.33980839]\n",
      " [  1.07956382  -2.28018497]\n",
      " [ -3.65170402  -9.02754274]\n",
      " [ -8.39149337 -10.95689027]\n",
      " [ -3.98744324 -10.1096599 ]\n",
      " [  1.15279693  -1.79451987]\n",
      " [ -1.88888733 -10.83687189]\n",
      " [ -3.77018832  -9.32366521]\n",
      " [ -7.13832678  -9.74367373]\n",
      " [ -4.08913709  -9.97151111]\n",
      " [ -3.45154724  -5.49107213]\n",
      " [ -7.49072351  -6.79391261]\n",
      " [ -3.78177504  -5.48897223]\n",
      " [ -4.35280126 -10.70710338]\n",
      " [  0.83378274  -1.49195312]\n",
      " [  0.08711214  -1.14112631]\n",
      " [-13.19979154  -4.69662104]\n",
      " [ -0.39856677  -1.73906334]\n",
      " [  3.19316914  -1.47017894]\n",
      " [  1.50029942  -1.11936977]\n",
      " [ -2.446034    -5.68382477]\n",
      " [  3.83426951  -1.21522604]\n",
      " [  4.50892446 -13.73350397]\n",
      " [  0.79193468  -2.35119903]\n",
      " [ -3.99452907  -5.82878185]\n",
      " [ -7.95866356  -6.71409422]\n",
      " [  1.64572832  -2.10027126]\n",
      " [  0.946132    -2.82692698]\n",
      " [  5.58675092  -0.89530635]\n",
      " [ -4.21585394 -10.46685951]\n",
      " [ -4.35015509  -9.16444487]\n",
      " [ -2.46899519  -6.36071322]\n",
      " [ -1.09296647   4.00928731]\n",
      " [ -0.3880739   -1.33388597]\n",
      " [ -7.46005537  -7.20764735]\n",
      " [  4.22850518  -1.51028041]\n",
      " [ -8.25850349  -7.13447329]\n",
      " [  5.71867766  -1.03626514]\n",
      " [ -9.89994172 -12.77747317]\n",
      " [ -3.3985942   -7.15163794]\n",
      " [  5.42196263  -2.10785488]\n",
      " [ -3.03972477  -7.11408346]\n",
      " [ -2.75514135  -6.63548985]\n",
      " [ -4.48169511 -10.49581564]\n",
      " [  4.04413749  -1.76811209]\n",
      " [ -2.85915635  -6.4258003 ]\n",
      " [ -2.78127006 -15.58426425]\n",
      " [ -2.24323343  -5.89284573]\n",
      " [ -4.39331151  -9.83181292]\n",
      " [  6.91896156   2.8483937 ]\n",
      " [ -6.88686507  -7.08610294]\n",
      " [ -3.45894518 -10.23823942]\n",
      " [  1.29225726  -1.81849107]\n",
      " [ -8.43443239  -7.05176448]\n",
      " [ -7.58972686  -7.39937902]\n",
      " [ -4.13176568 -10.04841732]\n",
      " [ -2.75432179  -6.76010409]\n",
      " [ -8.2637339   -6.69409086]\n",
      " [ -4.7367847   -8.91139156]\n",
      " [ -3.17741302  -9.69580162]\n",
      " [  0.86057194  -1.61384817]\n",
      " [-10.07126714   4.65308126]\n",
      " [ -3.11344218 -10.15022042]\n",
      " [ -8.75332962  -7.27122261]\n",
      " [  4.39889111  -2.06230758]\n",
      " [  3.99625315  -1.11904634]\n",
      " [  4.76263698  -1.41746492]\n",
      " [ -3.54362586  -5.85877604]\n",
      " [ -8.55669693  -7.334125  ]\n",
      " [ -4.44900701  -9.82810708]\n",
      " [  2.27992285  -2.78216742]\n",
      " [ -7.48234807  -7.3842226 ]\n",
      " [ -3.13004774  -6.06412563]\n",
      " [ -7.27836316  -7.29578153]\n",
      " [ -8.13201205  -6.55325975]\n",
      " [  4.73681237  -2.39759479]\n",
      " [ -2.20668925  -6.40824419]\n",
      " [  4.34544235  -1.77150177]\n",
      " [ -9.82274879  -6.75583802]\n",
      " [ -0.24312774  -1.69870162]\n",
      " [  4.33505736  -1.74142675]\n",
      " [  4.30166797  -1.36243311]\n",
      " [ -4.32376579 -10.06398072]\n",
      " [ -8.60320987  -7.289765  ]\n",
      " [  2.94558721  -1.84562997]\n",
      " [ -2.42818534  -6.38483589]\n",
      " [ -3.3238752   -6.44819418]\n",
      " [ -4.4876819  -10.98814526]\n",
      " [ -2.70217326  -6.55076147]\n",
      " [  0.16745247  -2.29236102]\n",
      " [ -3.79586808  -9.82686364]\n",
      " [ -0.05868165  -0.91277514]\n",
      " [  0.67644311  -2.37003388]\n",
      " [ -2.42448019  -6.16617253]\n",
      " [ -3.82522821  -9.40591139]\n",
      " [  2.34804758  -6.11030476]\n",
      " [  5.14818829  -2.77434902]\n",
      " [ -7.71654     -7.20674435]\n",
      " [ -7.72020133  -7.5583625 ]\n",
      " [  3.80827377  -1.96981658]\n",
      " [  2.66415361  -5.41796195]\n",
      " [  3.9413929   -1.67433008]\n",
      " [ -3.30083145  -5.86439498]\n",
      " [  4.93219122  -1.56353766]\n",
      " [ -3.73165292  -9.30150936]]\n"
     ]
    },
    {
     "data": {
      "image/png": "[encoded data removed]",
      "text/plain": [
       "<Figure size 432x288 with 1 Axes>"
      ]
     },
     "metadata": {
      "needs_background": "light"
     },
     "output_type": "display_data"
    }
   ],
   "source": [
    "from sklearn.datasets.samples_generator import make_blobs\n",
    "from sklearn.model_selection import train_test_split\n",
    "X, y_true = make_blobs(n_samples=400, centers=5,\n",
    "                       cluster_std=0.60, random_state=1)\n",
    "X_append, y_true_append = make_blobs(n_samples=50,centers=5,\n",
    "                                    cluster_std=5,random_state=1)\n",
    "X = np.vstack([X,X_append])\n",
    "y_true = np.hstack([[0 for _ in y_true], [1 for _ in y_true_append]])\n",
    "X = X[:, ::-1] # flip axes for better plotting\n",
    "\n",
    "X_train, X_test, y_train, y_test = train_test_split(X, y_true, test_size=0.33, random_state=1, shuffle=True)\n",
    "\n",
    "plt.scatter(X_train[:,0],X_train[:,1],marker=\"x\");\n",
    "print(X_test)"
   ]
  },
  {
   "cell_type": "markdown",
   "metadata": {
    "colab_type": "text",
    "id": "kRo60bt7086O"
   },
   "source": [
    "Okay, we have more than one cluster centre now. So what? Let's just ignore that and use the same model as before. \n",
    "\n",
    "* What is the precision for k=1 in the cell below? _**1.0**\n",
    "* k=10? **_0.9**\n",
    "* k=100? **_0.13**"
   ]
  },
  {
   "cell_type": "code",
   "execution_count": 9,
   "metadata": {
    "colab": {},
    "colab_type": "code",
    "id": "4r_vTJxE086O"
   },
   "outputs": [
    {
     "name": "stdout",
     "output_type": "stream",
     "text": [
      "1 1.0\n",
      "10 0.9\n",
      "100 0.13\n"
     ]
    },
    {
     "data": {
      "image/png": "[encoded data removed]",
      "text/plain": [
       "<Figure size 576x432 with 1 Axes>"
      ]
     },
     "metadata": {
      "needs_background": "light"
     },
     "output_type": "display_data"
    }
   ],
   "source": [
    "mu, sigma = estimateGaussian(X_train)\n",
    "p = multivariateGaussian(X_test, mu, sigma)\n",
    "plt.figure(figsize=(8,6))\n",
    "plt.scatter(X_test[:,0],X_test[:,1],marker=\"x\",c=p,cmap='viridis');\n",
    "outliers = np.nonzero(p<0.001)[0]\n",
    "plt.scatter(X_test[outliers,0],X_test[outliers,1],marker=\"o\",facecolor=\"none\",edgecolor=\"r\",s=70);\n",
    "\n",
    "from sklearn.metrics import precision_score\n",
    "import pandas as pd\n",
    "a = pd.DataFrame(data=p,columns=['p'])\n",
    "#print(len(p))\n",
    "a['y'] = y_test\n",
    "a['y_p'] = 0\n",
    "a.sort_values(by='p',ascending=True,inplace=True)\n",
    "b = a.index[0:100]\n",
    "\n",
    "c = pd.DataFrame(data=p,columns=['p'])\n",
    "c['y'] = y_test\n",
    "c['y_p'] = 0\n",
    "for k in (1,10,100):\n",
    "  for i in range(0,k):\n",
    "    c.loc[b[i],'y_p'] = 1\n",
    "    precision = precision_score(y_test,c.y_p.values,average='binary')\n",
    "  print(k,precision)\n",
    "  \n",
    "  \n",
    "  \n",
    "  \n"
   ]
  },
  {
   "cell_type": "markdown",
   "metadata": {
    "colab_type": "text",
    "id": "DVEbehwl086Q"
   },
   "source": [
    "Uh oh. This model performs terribly. It's fit the mean to a section of space where we don't have _any_ points, and it has absolutely no idea which points are outliers! This was probably pretty obvious to you though. We need to move to a Mixture of Gaussians model - one in which we use multiple Gaussians to fit the data. We'll use `sklearn.mixture.GaussianMixture` to do this - or rather you will! Use the documentation, found [here](https://scikit-learn.org/stable/modules/generated/sklearn.mixture.GaussianMixture.html#sklearn.mixture.GaussianMixture) to initialise and fit a `GaussianMixture` object called `gm` in the cell below."
   ]
  },
  {
   "cell_type": "code",
   "execution_count": 10,
   "metadata": {
    "colab": {},
    "colab_type": "code",
    "id": "HfV1Bj7U086Q"
   },
   "outputs": [
    {
     "data": {
      "text/plain": [
       "GaussianMixture(covariance_type='full', init_params='kmeans', max_iter=100,\n",
       "                means_init=None, n_components=5, n_init=1, precisions_init=None,\n",
       "                random_state=0, reg_covar=1e-06, tol=0.001, verbose=0,\n",
       "                verbose_interval=10, warm_start=False, weights_init=None)"
      ]
     },
     "execution_count": 10,
     "metadata": {},
     "output_type": "execute_result"
    }
   ],
   "source": [
    "from sklearn.mixture import GaussianMixture\n",
    "gm = GaussianMixture(n_components = 5,\n",
    "                    covariance_type = 'full', random_state=0, )\n",
    "gm.fit(X_train)"
   ]
  },
  {
   "cell_type": "markdown",
   "metadata": {
    "colab_type": "text",
    "id": "zXaIUAc1086S"
   },
   "source": [
    "Now we can use the method `gm.predict_proba()` to get the probability of each data point being in any of the five clusters:"
   ]
  },
  {
   "cell_type": "code",
   "execution_count": 11,
   "metadata": {
    "colab": {},
    "colab_type": "code",
    "id": "3z89f1QN086S"
   },
   "outputs": [
    {
     "data": {
      "image/png": "[encoded data removed]",
      "text/plain": [
       "<Figure size 720x720 with 5 Axes>"
      ]
     },
     "metadata": {
      "needs_background": "light"
     },
     "output_type": "display_data"
    }
   ],
   "source": [
    "#plt.subplots(3,2,figsize=(8,6))\n",
    "plt.figure(figsize=(10,10))\n",
    "for i in range(5):\n",
    "    plt.subplot(3,2,i+1)\n",
    "    plt.scatter(X_train[:,0],X_train[:,1],c=gm.predict_proba(X_train)[:,i],cmap='viridis',marker='x')"
   ]
  },
  {
   "cell_type": "markdown",
   "metadata": {
    "colab_type": "text",
    "id": "bXJ4wCix086T"
   },
   "source": [
    "Our Mixture of Gaussians model is powerful! Not only is it unsupervised, it can both classify points into one of the K clusters we have, _and_ it can help us with our ultimate goal of identifying outlier points! We can do this by finding the points that no cluster wants to claim for itself.\n",
    "\n",
    "Use the following formula to calculate the probability of each point, and set it to `p`:\n",
    "\n",
    "$$p(x) = 1 - \\bigg( \\prod_{i=1}^{k} 1 - p(x \\in k) \\bigg)$$\n",
    "\n",
    "This formula returns the probability that the datapoint was produced at random by _any_ of the Gaussians we fit. Hence, we want to filter out anything without a very high probability of this.\n",
    "\n",
    "In the cell below, calculate these values and then compute precision@k for k=1, 10, and 100.\n",
    "\n",
    "* Is this model better or worse performing than the previous? _**_Better**_\n",
    "* Why might that be? **_Because the True positive rate has increased.___**"
   ]
  },
  {
   "cell_type": "code",
   "execution_count": 12,
   "metadata": {
    "colab": {},
    "colab_type": "code",
    "id": "3LaIGByQ086U"
   },
   "outputs": [
    {
     "name": "stdout",
     "output_type": "stream",
     "text": [
      "1 0.0\n",
      "10 0.4\n",
      "100 0.07\n",
      "For a k of  1  the precision is  1.000  and the recall is  0.056\n",
      "For a k of  10  the precision is  1.000  and the recall is  0.556\n",
      "For a k of  100  the precision is  0.180  and the recall is  1.000\n",
      "[7.71699918e-03 1.49108905e-03 2.09638181e-03 5.69273775e-03\n",
      " 5.11856653e-03 3.41070788e-03 5.13383989e-03 1.62623987e-03\n",
      " 5.36952555e-03 1.61652808e-03 9.75205581e-03 1.31645194e-03\n",
      " 4.19198356e-03 1.74492834e-03 4.12853779e-03 9.08960068e-03\n",
      " 6.10251268e-03 9.74495986e-03 1.54091018e-03 1.56992656e-03\n",
      " 2.69164592e-03 6.74000255e-03 4.86250437e-03 1.22869499e-03\n",
      " 4.44181016e-03 3.12912656e-03 9.78595695e-04 9.86091764e-03\n",
      " 1.03805792e-02 1.44729055e-03 3.24184578e-03 5.50604034e-03\n",
      " 4.35435415e-03 1.65511544e-03 3.13578181e-03 4.00049779e-03\n",
      " 9.11226558e-03 9.30724362e-03 6.52682147e-03 1.71781012e-03\n",
      " 7.58775838e-03 6.11308994e-03 3.96786128e-03 9.08832833e-03\n",
      " 4.32362326e-03 5.71916370e-03 5.52578964e-03 9.13496957e-04\n",
      " 3.65728739e-03 4.95253106e-03 3.04261749e-03 4.97264771e-03\n",
      " 2.24237699e-03 3.81245029e-03 9.84284849e-03 4.12126964e-03\n",
      " 9.53852330e-03 2.72253867e-03 4.73887970e-03 4.62231193e-03\n",
      " 3.29587733e-04 5.85267619e-03 2.89720798e-03 3.76166631e-03\n",
      " 1.04091273e-02 2.21764779e-03 1.97767669e-04 6.07466999e-03\n",
      " 9.23629269e-03 3.59020733e-03 4.95465555e-03 6.61854288e-03\n",
      " 1.07303153e-03 3.07524121e-03 4.88531072e-03 1.00139903e-02\n",
      " 2.82701997e-04 5.14958763e-03 3.93074806e-03 2.15916516e-03\n",
      " 3.07370454e-03 1.07099534e-03 1.90292767e-04 8.64707000e-03\n",
      " 1.68064743e-03 8.92897481e-03 9.64001704e-03 2.93119841e-03\n",
      " 2.47758006e-03 9.78708702e-03 1.36512473e-04 1.03866532e-02\n",
      " 3.86395305e-03 8.57742600e-05 4.71331851e-03 3.66491878e-03\n",
      " 4.87493756e-03 2.92595547e-03 3.66346103e-03 3.68212394e-03\n",
      " 9.50708429e-03 3.24840256e-03 4.98982488e-03 4.60881331e-03\n",
      " 4.90402472e-03 2.80349618e-05 3.89933870e-03 2.52326106e-03\n",
      " 2.40041844e-03 2.04125612e-03 1.74958606e-03 9.66480504e-03\n",
      " 2.68325443e-03 3.83959537e-03 5.12842404e-03 3.79496368e-03\n",
      " 9.88674072e-03 4.09053172e-03 3.44808159e-03 2.33056233e-03\n",
      " 1.00436968e-02 2.25064146e-03 1.76958244e-03 5.71025007e-03\n",
      " 2.23836879e-03 2.01023472e-03 3.57118176e-03 2.65773260e-03\n",
      " 3.46497155e-03 1.00068672e-02 9.46734047e-03 2.35220371e-03\n",
      " 9.74923503e-03 6.46691586e-03 4.16053329e-03 4.32335396e-03\n",
      " 6.20039100e-03 1.01778111e-02 4.81098327e-03 6.46057008e-03\n",
      " 2.18758310e-03 3.63326841e-03 3.42065671e-03 2.82260640e-03\n",
      " 6.15009313e-03 2.48746916e-03 9.86347199e-03 1.72503493e-03\n",
      " 5.02864273e-03]\n"
     ]
    },
    {
     "data": {
      "image/png": "[encoded data removed]",
      "text/plain": [
       "<Figure size 432x288 with 1 Axes>"
      ]
     },
     "metadata": {
      "needs_background": "light"
     },
     "output_type": "display_data"
    }
   ],
   "source": [
    "ps = gm.predict_proba(X_test)\n",
    "px = []\n",
    "for i in range(0,149):\n",
    "  p1 = (1-ps[i][0])*(1-ps[i][1])*(1-ps[i][2])*(1-ps[i][3])*(1-ps[i][4])\n",
    "  px.append(1-p1)\n",
    "\n",
    "a = pd.DataFrame(data=px,columns=['p'])\n",
    "#print(len(p))\n",
    "a['y'] = y_test\n",
    "a['y_p'] = 0\n",
    "a.sort_values(by='p',ascending=True,inplace=True)\n",
    "b = a.index[0:100]\n",
    "\n",
    "c = pd.DataFrame(data=px,columns=['p'])\n",
    "c['y'] = y_test\n",
    "c['y_p'] = 0\n",
    "for k in (1,10,100):\n",
    "  for i in range(0,k):\n",
    "    c.loc[b[i],'y_p'] = 1\n",
    "    precision = precision_score(y_test,c.y_p.values,average='binary')\n",
    "  print(k,precision)\n",
    "  \n",
    "  \n",
    "from sklearn.metrics import precision_score\n",
    "from sklearn.metrics import recall_score\n",
    "\n",
    "#This part outputs the precision and recall on the test set\n",
    "\n",
    "p_gm = gm.score_samples(X_test) #score_samples will compute the weighted log probabilities for each sample\n",
    "\n",
    "for i in [1, 10, 100]: #Let's look at 3 different k values\n",
    "   mn_gm = sorted(p_gm)[i] #We sort the points by probability, as before\n",
    "   precision = precision_score(y_test, p_gm < mn_gm) #Here, we compare y_test labels to our picks using precision\n",
    "   recall = recall_score(y_test, p_gm < mn_gm) #Here, we compare y_test labels to our picks using recall\n",
    "   print('For a k of ',i,' the precision is ', '%.3f' % precision,' and the recall is ', '%.3f' % recall) #We print precision and recall three times\n",
    "\n",
    "#This part computes the ROC curves for both models like we talked about in class\n",
    "\n",
    "from sklearn.metrics import roc_curve\n",
    "from matplotlib import pyplot\n",
    "fpr_sc, tpr_sc, _ = roc_curve(y_test, 1-p)\n",
    "fpr_gm, tpr_gm, _ = roc_curve(y_test, 1-p_gm)\n",
    "pyplot.plot(fpr_sc, tpr_sc, linestyle = '--', label='Single Component')\n",
    "pyplot.plot(fpr_gm, tpr_gm, marker='.', label='Gaussian Mixture')\n",
    "pyplot.xlabel('False Positive Rate')\n",
    "pyplot.ylabel('True Positive Rate')\n",
    "pyplot.legend()\n",
    "print(p)"
   ]
  },
  {
   "cell_type": "markdown",
   "metadata": {
    "colab_type": "text",
    "id": "Mwge8IXr086V"
   },
   "source": [
    "Although our MoG model doesn't perfectly identify all the outliers, it performs way better than our previous model, again without any label information to help it along!"
   ]
  },
  {
   "cell_type": "markdown",
   "metadata": {
    "colab_type": "text",
    "id": "0s35meHi086V"
   },
   "source": [
    "Let's look at a dataset that motivates using a Mixture of Gaussians model: Simpsons ratings.\n",
    "\n",
    "Everyone knows that there's a certain point when The Simpsons \"got bad\", but can we use a Mixture of Gaussians to find out exactly when that was?\n",
    "\n",
    "Load up the `simpsons.pickle` file using the cell below. It contains the IMDb rating for every simpsons episode."
   ]
  },
  {
   "cell_type": "code",
   "execution_count": 13,
   "metadata": {
    "colab": {},
    "colab_type": "code",
    "id": "Ed5EPmSS086W"
   },
   "outputs": [
    {
     "name": "stderr",
     "output_type": "stream",
     "text": [
      "'wget' 不是内部或外部命令，也不是可运行的程序\n",
      "或批处理文件。\n"
     ]
    },
    {
     "ename": "FileNotFoundError",
     "evalue": "[Errno 2] No such file or directory: 'simpsons.pickle'",
     "output_type": "error",
     "traceback": [
      "\u001b[1;31m---------------------------------------------------------------------------\u001b[0m",
      "\u001b[1;31mFileNotFoundError\u001b[0m                         Traceback (most recent call last)",
      "\u001b[1;32m<ipython-input-13-24a994bd45a3>\u001b[0m in \u001b[0;36m<module>\u001b[1;34m\u001b[0m\n\u001b[0;32m      4\u001b[0m \u001b[1;32mimport\u001b[0m \u001b[0mnumpy\u001b[0m \u001b[1;32mas\u001b[0m \u001b[0mnp\u001b[0m\u001b[1;33m\u001b[0m\u001b[1;33m\u001b[0m\u001b[0m\n\u001b[0;32m      5\u001b[0m \u001b[1;32mfrom\u001b[0m \u001b[0msklearn\u001b[0m\u001b[1;33m.\u001b[0m\u001b[0mmixture\u001b[0m \u001b[1;32mimport\u001b[0m \u001b[0mGaussianMixture\u001b[0m\u001b[1;33m\u001b[0m\u001b[1;33m\u001b[0m\u001b[0m\n\u001b[1;32m----> 6\u001b[1;33m \u001b[1;32mwith\u001b[0m \u001b[0mopen\u001b[0m\u001b[1;33m(\u001b[0m\u001b[1;34m'simpsons.pickle'\u001b[0m\u001b[1;33m,\u001b[0m\u001b[1;34m'rb'\u001b[0m\u001b[1;33m)\u001b[0m \u001b[1;32mas\u001b[0m \u001b[0mf\u001b[0m\u001b[1;33m:\u001b[0m\u001b[1;33m\u001b[0m\u001b[1;33m\u001b[0m\u001b[0m\n\u001b[0m\u001b[0;32m      7\u001b[0m     \u001b[0msimpsons\u001b[0m \u001b[1;33m=\u001b[0m \u001b[0mpickle\u001b[0m\u001b[1;33m.\u001b[0m\u001b[0mload\u001b[0m\u001b[1;33m(\u001b[0m\u001b[0mf\u001b[0m\u001b[1;33m)\u001b[0m\u001b[1;33m\u001b[0m\u001b[1;33m\u001b[0m\u001b[0m\n",
      "\u001b[1;31mFileNotFoundError\u001b[0m: [Errno 2] No such file or directory: 'simpsons.pickle'"
     ]
    }
   ],
   "source": [
    "!wget https://github.com/alexwolson/APS1070_data/raw/master/simpsons.pickle\n",
    "import pickle\n",
    "import matplotlib.pyplot as plt\n",
    "import numpy as np\n",
    "from sklearn.mixture import GaussianMixture\n",
    "with open('simpsons.pickle','rb') as f:\n",
    "    simpsons = pickle.load(f)"
   ]
  },
  {
   "cell_type": "markdown",
   "metadata": {
    "colab_type": "text",
    "id": "OUzUuuHQ086X"
   },
   "source": [
    "**With** `plt.hist`, plot a histogram of the rating distribution for all Simpsons episodes. \n",
    "\n",
    "* What is the modal rating? **_7.1**_\n",
    "* What is the range of ratings? _**4.0-9.3**_"
   ]
  },
  {
   "cell_type": "code",
   "execution_count": null,
   "metadata": {
    "colab": {},
    "colab_type": "code",
    "id": "Ga0Gttx9086X"
   },
   "outputs": [],
   "source": [
    "simpsons\n",
    "a = []\n",
    "for i in range(1,33):\n",
    "  a.append(list(simpsons[i].values()))\n",
    "def flatten(a):\n",
    "    for each in a:\n",
    "        if not isinstance(each, list):\n",
    "            yield each\n",
    "        else:\n",
    "            yield from flatten(each)\n",
    "b = list(flatten(a))\n",
    "plt.hist(b)\n",
    "print(min(b),max(b))\n",
    "print (max(b,key=b.count))"
   ]
  },
  {
   "cell_type": "markdown",
   "metadata": {
    "colab_type": "text",
    "id": "glwBMIR2086Z"
   },
   "source": [
    "Next, use `sklearn.mixture.GaussianMixture` to fit a Mixture of Gaussians to the Simpsons rating distribution. Since we are trying to distinguish between good and bad ratings, we only need 2 gaussians.\n",
    "\n",
    "* What are the means for the two Gaussians fit by the model? _**6.7734 and 8.1794**_\n",
    "* What about the standard deviations? _**0.3563 and 0.2248**_"
   ]
  },
  {
   "cell_type": "code",
   "execution_count": null,
   "metadata": {
    "colab": {},
    "colab_type": "code",
    "id": "riwwY7rG086Z"
   },
   "outputs": [],
   "source": [
    "sim = []\n",
    "for i in range(1,33):\n",
    "  for k in range(len(list(simpsons[i].values()))):\n",
    "    sim.append([list(simpsons[i].values())[k]])\n",
    "sim = np.array(sim).reshape(-1,1)\n",
    "\n",
    "gm = GaussianMixture(n_components = 2,\n",
    "                    covariance_type = 'full', random_state=0, )\n",
    "gm.fit(sim)\n",
    "print('mean for gaussian 1 is',gm.means_[0])\n",
    "print('mean for gaussian 2 is',gm.means_[1])\n",
    "\n",
    "print('std for gaussian 1 is:',gm.covariances_[0])\n",
    "print('std for gaussian 2 is:',gm.covariances_[1])"
   ]
  },
  {
   "cell_type": "markdown",
   "metadata": {
    "colab_type": "text",
    "id": "08-49Uzv086a"
   },
   "source": [
    "\n",
    "Finally, using the `GaussianMixture.predict()` method, we can use maximum likelihood to estimate which distribution, good or bad, each episode belongs to. In the cell below, count the number of episodes predicted to be in the \"good\" distribution per season, and plot using `plt.plot`.\n",
    "\n",
    "* Where is the notable drop-off point? _**season10**_\n",
    "* When is the first season with 0 good episodes? _**season14**_"
   ]
  },
  {
   "cell_type": "code",
   "execution_count": null,
   "metadata": {
    "colab": {},
    "colab_type": "code",
    "id": "I5pK_a0r086b"
   },
   "outputs": [],
   "source": [
    "simpsons = dict(sorted(list(simpsons.items()), key=lambda x: x[0]))\n",
    "rating = gm.predict(sim)\n",
    "epis = []\n",
    "C = []\n",
    "perc = []\n",
    "B = []\n",
    "\n",
    "for i in range(1,33):\n",
    "  for k in range(len(list(simpsons[i].values()))):\n",
    "    C.append([i])\n",
    "  \n",
    "for k in range(0,len(rating)):\n",
    "  C[k].append(rating[k])\n",
    "  \n",
    "  \n",
    "score_perc = []\n",
    "for i in range(1,33):\n",
    "  score = 0\n",
    "  ab = 0\n",
    "  bc = 0\n",
    "  cd = []\n",
    "  for k in range(0,len(rating)):\n",
    "    if C[k][0] == i:\n",
    "      cd.append(C[k][1])\n",
    "      \n",
    "  for i in range(0,len(cd)-1):\n",
    "    if cd[i] == 1:\n",
    "      ab += 1\n",
    "    elif cd[i] ==0:\n",
    "      bc += 1\n",
    "  score = ab/len(cd)\n",
    "  score_perc.append(score)\n",
    "\n",
    "print(score_perc)\n",
    "\n",
    "x = []\n",
    "for i in range(1,33):\n",
    "  x.append(i)\n",
    "plt.xlabel('season')\n",
    "plt.ylabel('good_percentage')\n",
    "plt.plot(x,score_perc)\n",
    "\n",
    "for i in range(0,33):\n",
    "  if score_perc[i] == 0:\n",
    "    print(i+1)\n",
    "    break"
   ]
  },
  {
   "cell_type": "markdown",
   "metadata": {
    "colab_type": "text",
    "id": "M2LBcGEWO5Aq"
   },
   "source": [
    "## Exercises"
   ]
  },
  {
   "cell_type": "markdown",
   "metadata": {
    "colab_type": "text",
    "id": "15oxS-3p086d"
   },
   "source": [
    "Now we are going to work with a credit card fraud dataset (more detail can be found [here](https://www.kaggle.com/mlg-ulb/creditcardfraud/downloads/creditcardfraud.zip/3)). This dataset contains 28 key features, which are not \n",
    "directly interpretable but contain meaningful information about the dataset.\n",
    "\n",
    "Load up the dataset using Pandas' `read_csv` function. The dataset is called `creditcard.csv`. Print out the first few columns of the dataset.\n",
    "\n",
    "* How many rows are there?[1] __284807___\n",
    "* What features in the dataset are present aside from the 28 main features?[1] __Amount,Class,Time___\n",
    "* Why do you think the main features are given to us in this way?[1] __Because using their names as column will increase the difficulty of refering to these features in the program.___\n",
    "* Which column contains the targets? Can you figure out what the values correspond to?[1] __Class___"
   ]
  },
  {
   "cell_type": "code",
   "execution_count": null,
   "metadata": {
    "colab": {},
    "colab_type": "code",
    "id": "QjjWSjZmNr6W"
   },
   "outputs": [],
   "source": [
    "pip install wget"
   ]
  },
  {
   "cell_type": "code",
   "execution_count": null,
   "metadata": {
    "colab": {},
    "colab_type": "code",
    "id": "lnyWAHCx086e"
   },
   "outputs": [],
   "source": [
    "import wget\n",
    "wget.download('https://github.com/alexwolson/APS1070_data/raw/master/creditcard.tar.gz','creditcard.tar.gz')"
   ]
  },
  {
   "cell_type": "code",
   "execution_count": null,
   "metadata": {
    "colab": {},
    "colab_type": "code",
    "id": "mXCRNShD086g"
   },
   "outputs": [],
   "source": [
    "!tar -zxvf creditcard.tar.gz"
   ]
  },
  {
   "cell_type": "code",
   "execution_count": null,
   "metadata": {
    "colab": {},
    "colab_type": "code",
    "id": "IHcCbjaU086i"
   },
   "outputs": [],
   "source": [
    "import pandas as pd\n",
    "from sklearn.model_selection import train_test_split\n",
    "df = pd.read_csv('creditcard.csv')\n",
    "count_0 = 0\n",
    "count_1 = 0\n",
    "\n",
    "df"
   ]
  },
  {
   "cell_type": "markdown",
   "metadata": {
    "colab_type": "text",
    "id": "kxHfH_Ib086k"
   },
   "source": [
    "It's always important when looking at a new dataset to figure out how many rows we have for each class.\n",
    "\n",
    "* What is the percentage of entries in the dataset for each class?[1] __99.827%___\n",
    "* Why might this pose a problem with methods we have looked at so far?[1] __Because the dataset contains too little of the positive targets, and it may cause a problem if the positive label is not enough.___\n",
    "\n"
   ]
  },
  {
   "cell_type": "code",
   "execution_count": null,
   "metadata": {
    "colab": {},
    "colab_type": "code",
    "id": "577HLmqzfq5l"
   },
   "outputs": [],
   "source": [
    "class_count = df['Class'].value_counts()\n",
    "pctg = class_count[0]/(class_count[0]+class_count[1])\n",
    "print(pctg)"
   ]
  },
  {
   "cell_type": "markdown",
   "metadata": {
    "colab_type": "text",
    "id": "BIQlULv0086k"
   },
   "source": [
    "Next, split the dataset into a training and testing set using sklearn's `train_test_split` function. Use a test size of one third, and set the random state to 0.\n",
    "\n",
    "Make sure to separate out the column corresponding to the targets.\n",
    "\n",
    "As mentioned earlier, in these exercises we are going to use Gaussian distributions to model the data. To accomplish this, we are going to introduce `scipy`, a package which contains a wide variety of tools for working with scientific data in Python. Its `stats` package allows us to easily model various statistical distributions, and get information about them.\n",
    "\n",
    "Scipy's Gaussian distribution class is called `norm`. It takes two parameters - `loc`, which corresponds to the mean of your distribution, and `scale`, which corresponds to the standard deviation.\n",
    "\n",
    "* What are the mean and standard deviation for variable V24? Make sure to only use your training set for this.[1] ___mean:0.0002942, std:0.60486__\n",
    "\n",
    "Use the code below to set up a Gaussian object for V24."
   ]
  },
  {
   "cell_type": "code",
   "execution_count": null,
   "metadata": {
    "colab": {},
    "colab_type": "code",
    "id": "PgJDMPKR086k"
   },
   "outputs": [],
   "source": [
    "from scipy import stats\n",
    "\n",
    "y_true = df['Class']\n",
    "X = df.drop(columns='Class')\n",
    "\n",
    "X_train, X_test, y_train, y_test = train_test_split(X, y_true, test_size=0.33, random_state=0)\n",
    "v24_mean = X_train['V24'].mean()\n",
    "v24_std = X_train['V24'].std()\n",
    "print(v24_mean,v24_std)\n",
    "norm = stats.norm(loc=v24_mean,scale=v24_std)\n"
   ]
  },
  {
   "cell_type": "code",
   "execution_count": null,
   "metadata": {
    "colab": {},
    "colab_type": "code",
    "id": "BTe6jzJ1086m"
   },
   "outputs": [],
   "source": [
    "import matplotlib.pyplot as plt\n",
    "import numpy as np\n",
    "fig, ax = plt.subplots(1, 1)\n",
    "x = np.linspace(norm.ppf(0.01),\n",
    "                norm.ppf(0.99), 100)\n",
    "ax.plot(x, norm.pdf(x),\n",
    "       'r-', lw=5, alpha=0.6, label='norm pdf')\n",
    "ax.hist(X_train['V24'].values, density=True, histtype='stepfilled', bins=50);\n",
    "plt.show()\n"
   ]
  },
  {
   "cell_type": "markdown",
   "metadata": {
    "colab_type": "text",
    "id": "Fn3xaQXV086n"
   },
   "source": [
    "We can also look at the difference in distribution for some variables between fraudulent and non-fraudulent transactions:"
   ]
  },
  {
   "cell_type": "code",
   "execution_count": null,
   "metadata": {
    "colab": {},
    "colab_type": "code",
    "id": "dv51PCrv086n",
    "scrolled": false
   },
   "outputs": [],
   "source": [
    "import matplotlib.gridspec as gridspec\n",
    "import seaborn as sns\n",
    "features=[f for f in df.columns if 'V' in f]\n",
    "nplots=np.size(features)\n",
    "plt.figure(figsize=(15,4*nplots))\n",
    "gs = gridspec.GridSpec(nplots,1)\n",
    "for i, feat in enumerate(features):\n",
    "    ax = plt.subplot(gs[i])\n",
    "    sns.distplot(X_train[feat][y_train==1], bins=30)\n",
    "    sns.distplot(X_train[feat][y_train==0],bins=30)\n",
    "    ax.legend(['fraudulent', 'non-fraudulent'],loc='best')\n",
    "    ax.set_xlabel('')\n",
    "    ax.set_title('Distribution of feature: ' + feat)"
   ]
  },
  {
   "cell_type": "markdown",
   "metadata": {
    "colab_type": "text",
    "id": "A4TPN7kc086p"
   },
   "source": [
    "Build an outlier detection model using a Mixture of Gaussians using a subset of features of your choice (pick a few) and a number of mixture components. Report both the precision@k and recall@k for k=1, 10 and 100 (on test data). Repeat this model creation process at least 4 more times, each time selecting different parameters (features selected, number of mixture components), and reporting the precision and recall as above. Organize your findings in a table or plot and describe your findings. What can you conclude about what models work best? [3]\n",
    "\n",
    "**As can be seen from the outcome of the program below, if we select those features whose distribution is basically the same between non-fraud and fraudulent, we can barely have a good result. However, if we choose the features in which the non-fraud and fraudulent are quite different from each other, we can get a good result.**"
   ]
  },
  {
   "cell_type": "code",
   "execution_count": null,
   "metadata": {
    "colab": {},
    "colab_type": "code",
    "id": "FxiINqfCWJDk"
   },
   "outputs": [],
   "source": [
    "sigma"
   ]
  },
  {
   "cell_type": "code",
   "execution_count": null,
   "metadata": {
    "colab": {},
    "colab_type": "code",
    "id": "_HR-H-N7086p"
   },
   "outputs": [],
   "source": [
    "\n",
    "\n",
    "#This part outputs the precision and recall on the test set\n",
    "for i in range(0,4):\n",
    "  X_train_m1 = [X_train[['V11','V12','V4']],X_train[['V24','V25','V26']],X_train[['V16','V17','V18']],X_train[['V13','V15','V22']]]\n",
    "  X_test_m1 = [X_test[['V11','V12','V4']],X_test[['V24','V25','V26']],X_test[['V16','V17','V18']],X_test[['V13','V15','V22']]]\n",
    "  n_compo = np.random.randint(2,5)\n",
    "  \n",
    "  \n",
    "  train_data_x = np.array(X_train_m1[i])\n",
    "  test_data_x = np.array(X_test_m1[i])\n",
    "  mu, sigma = estimateGaussian(train_data_x)\n",
    "  p = multivariateGaussian(test_data_x, mu, sigma)\n",
    "  gm = GaussianMixture(n_components = n_compo,\n",
    "                      covariance_type = 'full', random_state=0, )\n",
    "  gm.fit(X_train_m1[i])\n",
    "  p_gm = gm.score_samples(X_test_m1[i]) #score_samples will compute the weighted log probabilities for each sample\n",
    "\n",
    "\n",
    "  for i in [1, 10, 100]: #Let's look at 3 different k values\n",
    "     mn_gm = sorted(p_gm)[i] #We sort the points by probability, as before\n",
    "     precision = precision_score(y_test, p_gm < mn_gm) #Here, we compare y_test labels to our picks using precision\n",
    "     recall = recall_score(y_test, p_gm < mn_gm) #Here, we compare y_test labels to our picks using recall\n",
    "     print('For a k of ',i,' the precision is ', '%.3f' % precision,' and the recall is ', '%.3f' % recall) #We print precision and recall three times\n",
    "\n",
    "  #This part computes the ROC curves for both models like we talked about in class\n",
    "\n",
    "  from sklearn.metrics import roc_curve\n",
    "  from matplotlib import pyplot\n",
    "  fpr_sc, tpr_sc, _ = roc_curve(y_test, 1-p)\n",
    "  fpr_gm, tpr_gm, _ = roc_curve(y_test, 1-p_gm)\n",
    "  pyplot.plot(fpr_sc, tpr_sc, linestyle = '--', label='Single Component')\n",
    "  pyplot.plot(fpr_gm, tpr_gm, marker='.', label='Gaussian Mixture')\n",
    "  pyplot.xlabel('False Positive Rate')\n",
    "  pyplot.ylabel('True Positive Rate')\n",
    "  pyplot.legend()\n",
    "\n"
   ]
  }
 ],
 "metadata": {
  "colab": {
   "collapsed_sections": [],
   "name": "Lab_2.ipynb",
   "provenance": []
  },
  "kernelspec": {
   "display_name": "Python 3",
   "language": "python",
   "name": "python3"
  },
  "language_info": {
   "codemirror_mode": {
    "name": "ipython",
    "version": 3
   },
   "file_extension": ".py",
   "mimetype": "text/x-python",
   "name": "python",
   "nbconvert_exporter": "python",
   "pygments_lexer": "ipython3",
   "version": "3.7.6"
  }
 },
 "nbformat": 4,
 "nbformat_minor": 1
}
